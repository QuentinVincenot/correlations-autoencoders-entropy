{
  "nbformat": 4,
  "nbformat_minor": 0,
  "metadata": {
    "colab": {
      "name": "Autoencoders correlations.ipynb",
      "provenance": [],
      "collapsed_sections": []
    },
    "kernelspec": {
      "name": "python3",
      "display_name": "Python 3"
    },
    "accelerator": "GPU"
  },
  "cells": [
    {
      "cell_type": "markdown",
      "metadata": {
        "id": "sLGmqndu4mwP",
        "colab_type": "text"
      },
      "source": [
        "# Dense AutoEncoder"
      ]
    },
    {
      "cell_type": "code",
      "metadata": {
        "id": "mSdvel26F-ES",
        "colab_type": "code",
        "colab": {}
      },
      "source": [
        "import numpy as np\n",
        "from keras.datasets import mnist\n",
        "from keras.layers import Input, Dense\n",
        "from keras.models import Sequential, Model\n",
        "\n",
        "\n",
        "def load_flatten_mnist_dataset():\n",
        "  # Load the MNIST dataset from Keras\n",
        "  (x_train, y_train), (x_test, y_test) = mnist.load_data()\n",
        "  # Rescale images\n",
        "  x_train = x_train.astype('float32') / 255.\n",
        "  x_test = x_test.astype('float32') / 255.\n",
        "  # Reshape images\n",
        "  x_train = x_train.reshape((len(x_train), np.prod(x_train.shape[1:])))\n",
        "  x_test = x_test.reshape((len(x_test), np.prod(x_test.shape[1:])))\n",
        "  # Return the preprocessed MNIST images\n",
        "  return x_train, y_train, x_test, y_test\n",
        "\n",
        "def create_dense_autoencoder(input_dimension=784, latent_dimension=32):\n",
        "  # Create layers of the autoencoder structure\n",
        "  input_data = Input(shape=(input_dimension,))\n",
        "  encoded_data = Dense(latent_dimension, activation='relu')(input_data)\n",
        "  decoded_data = Dense(input_dimension, activation='sigmoid')(encoded_data)\n",
        "  encoded_input = Input(shape=(latent_dimension,))\n",
        "  # Create the autoencoder/encoder/decoder models\n",
        "  autoencoder = Model(input_data, decoded_data)\n",
        "  encoder = Model(input_data, encoded_data)\n",
        "  decoder = Model(encoded_input, autoencoder.layers[-1](encoded_input))\n",
        "  # Compile the autoencoder model\n",
        "  autoencoder.compile(optimizer='adadelta', loss='binary_crossentropy')\n",
        "  # Return the different autoencoder model parts\n",
        "  return autoencoder, encoder, decoder\n",
        "\n",
        "\n",
        "# Load the MNIST dataset (flattened to 784-long)\n",
        "x_train, y_train, x_test, y_test = load_flatten_mnist_dataset()\n",
        "\n",
        "# Create the autoencoder models\n",
        "autoencoder, encoder, decoder = create_dense_autoencoder(input_dimension=784, latent_dimension=32)\n",
        "\n",
        "# Fit the dense autoencoder on the MNIST training dataset\n",
        "autoencoder.fit(x_train, x_train, epochs=50, batch_size=256, shuffle=True)"
      ],
      "execution_count": 0,
      "outputs": []
    },
    {
      "cell_type": "code",
      "metadata": {
        "id": "l56Pelhs4mU6",
        "colab_type": "code",
        "outputId": "e3584cf0-b4c9-48ea-88c5-672a3543cac3",
        "colab": {
          "base_uri": "https://localhost:8080/",
          "height": 382
        }
      },
      "source": [
        "from keras.utils import to_categorical\n",
        "\n",
        "\n",
        "def encode_images(encoder, images):\n",
        "  # Pass forward the input images through the encoder part\n",
        "  return encoder.predict(images)\n",
        "\n",
        "def create_classifier(input_dimension=32, output_dimension=10):\n",
        "  # Create the classifier model\n",
        "  classifier = Sequential()\n",
        "  classifier.add(Dense(16, input_dim=input_dimension, activation='relu'))\n",
        "  classifier.add(Dense(output_dimension, activation='softmax'))\n",
        "  # Compile the classifier model\n",
        "  classifier.compile(optimizer='rmsprop', loss='categorical_crossentropy', metrics=['accuracy'])\n",
        "  return classifier\n",
        "\n",
        "\n",
        "# Encode the training images by passing them trough the encoder model\n",
        "encoded_x_train = encode_images(encoder, x_train)\n",
        "\n",
        "# Create the classifier model that will discriminate latent dimensions\n",
        "classifier = create_classifier(input_dimension=32, output_dimension=10)\n",
        "\n",
        "# Fit the classifier to make it predict the MNIST figures from latent vectors\n",
        "classifier.fit(encoded_x_train, to_categorical(y_train), epochs=10, batch_size=32)"
      ],
      "execution_count": 0,
      "outputs": [
        {
          "output_type": "stream",
          "text": [
            "Epoch 1/10\n",
            "60000/60000 [==============================] - 5s 89us/step - loss: 0.9774 - acc: 0.7154\n",
            "Epoch 2/10\n",
            "60000/60000 [==============================] - 5s 85us/step - loss: 0.4087 - acc: 0.8758\n",
            "Epoch 3/10\n",
            "60000/60000 [==============================] - 5s 86us/step - loss: 0.3644 - acc: 0.8902\n",
            "Epoch 4/10\n",
            "60000/60000 [==============================] - 5s 82us/step - loss: 0.3434 - acc: 0.8981\n",
            "Epoch 5/10\n",
            "60000/60000 [==============================] - 5s 83us/step - loss: 0.3280 - acc: 0.9032\n",
            "Epoch 6/10\n",
            "60000/60000 [==============================] - 5s 85us/step - loss: 0.3163 - acc: 0.9058\n",
            "Epoch 7/10\n",
            "60000/60000 [==============================] - 5s 84us/step - loss: 0.3080 - acc: 0.9082\n",
            "Epoch 8/10\n",
            "60000/60000 [==============================] - 5s 84us/step - loss: 0.3004 - acc: 0.9098\n",
            "Epoch 9/10\n",
            "60000/60000 [==============================] - 5s 84us/step - loss: 0.2954 - acc: 0.9127\n",
            "Epoch 10/10\n",
            "60000/60000 [==============================] - 5s 84us/step - loss: 0.2908 - acc: 0.9146\n"
          ],
          "name": "stdout"
        },
        {
          "output_type": "execute_result",
          "data": {
            "text/plain": [
              "<keras.callbacks.History at 0x7f0f3a6cbf98>"
            ]
          },
          "metadata": {
            "tags": []
          },
          "execution_count": 2
        }
      ]
    },
    {
      "cell_type": "code",
      "metadata": {
        "id": "0MhC4uJp45zo",
        "colab_type": "code",
        "outputId": "1f635151-7093-45e0-8a63-f14886df3d51",
        "colab": {
          "base_uri": "https://localhost:8080/",
          "height": 513
        }
      },
      "source": [
        "from scipy.stats.stats import pearsonr\n",
        "import matplotlib.pyplot as plt\n",
        "\n",
        "\n",
        "def compute_pearson_correlations(encoded_images, predictions):\n",
        "  # Compute Pearson linear correlation score between each latent dimension and the prediction\n",
        "  correlations = [pearsonr(encoded_images[:, i], predictions)[0] for i in range(encoded_images.shape[1])]\n",
        "  return correlations\n",
        "\n",
        "def plot_latent_dimensions_predictions_correlations(correlations):\n",
        "  # Initialize the x axis for the correlation plot\n",
        "  latent_dimensions = [i for i in range(len(correlations))]\n",
        "  # Plot the correlations between latent variables and predictions\n",
        "  plt.figure(figsize=(15, 8))\n",
        "  plt.bar(latent_dimensions, correlations)\n",
        "  plt.plot([0, len(correlations)-1], [0., 0.], 'r--')\n",
        "  plt.ylim([-1., 1.])\n",
        "  plt.title('Latent dimensions & predictions - Pearson correlations')\n",
        "  plt.xlabel('Latent dimensions')\n",
        "  plt.ylabel('Pearson correlation (with predictions)')\n",
        "  plt.show()\n",
        "\n",
        "\n",
        "# Make predictions with the classifier on latent dimensions encoded from all data\n",
        "prediction_encoded_images = np.argmax(classifier.predict(encoded_x_train), axis=1)\n",
        "\n",
        "# Compute (Pearson) correlations between latent dimensions and predictions\n",
        "correlations = compute_pearson_correlations(encoded_x_train, prediction_encoded_images)\n",
        "\n",
        "# Plot the correlations between latent variables and predictions made on encoded images\n",
        "plot_latent_dimensions_predictions_correlations(correlations)"
      ],
      "execution_count": 0,
      "outputs": [
        {
          "output_type": "display_data",
          "data": {
            "image/png": "[encoded data removed]",
            "text/plain": [
              "<Figure size 1080x576 with 1 Axes>"
            ]
          },
          "metadata": {
            "tags": []
          }
        }
      ]
    },
    {
      "cell_type": "markdown",
      "metadata": {
        "id": "-m4LL-I0epx6",
        "colab_type": "text"
      },
      "source": [
        "# Convolutional AutoEncoder"
      ]
    },
    {
      "cell_type": "code",
      "metadata": {
        "id": "KO3OSB8BUnjQ",
        "colab_type": "code",
        "colab": {}
      },
      "source": [
        "from keras.layers import Input, Dense, Conv2D, MaxPooling2D, UpSampling2D\n",
        "from keras.models import Sequential, Model\n",
        "from keras import backend as K\n",
        "\n",
        "\n",
        "def load_mnist_dataset():\n",
        "  # Load the MNIST dataset from Keras\n",
        "  (x_train, y_train), (x_test, y_test) = mnist.load_data()\n",
        "  # Rescale images\n",
        "  x_train = x_train.astype('float32') / 255.\n",
        "  x_test = x_test.astype('float32') / 255.\n",
        "  # Reshape images\n",
        "  x_train = x_train.reshape((len(x_train), 28, 28, 1))\n",
        "  x_test = x_test.reshape((len(x_test), 28, 28, 1))\n",
        "  # Return the preprocessed MNIST images\n",
        "  return x_train, y_train, x_test, y_test\n",
        "\n",
        "\n",
        "def create_convolutional_autoencoder(input_dimension=(28, 28, 1)):\n",
        "  # Create layers of the encoder structure\n",
        "  input_data = Input(shape=input_dimension)\n",
        "  conv_layer_1 = Conv2D(16, (3, 3), activation='relu', padding='same')(input_data)\n",
        "  pool_layer_1 = MaxPooling2D((2, 2), padding='same')(conv_layer_1)\n",
        "  conv_layer_2 = Conv2D(8, (3, 3), activation='relu', padding='same')(pool_layer_1)\n",
        "  pool_layer_2 = MaxPooling2D((2, 2), padding='same')(conv_layer_2)\n",
        "  conv_layer_3 = Conv2D(8, (3, 3), activation='relu', padding='same')(pool_layer_2)\n",
        "  encoded_data = MaxPooling2D((2, 2), padding='same')(conv_layer_3)\n",
        "  # Create layers of the decoder structure\n",
        "  deconv_layer_1 = Conv2D(8, (3, 3), activation='relu', padding='same')(encoded_data)\n",
        "  upsamp_layer_1 = UpSampling2D((2, 2))(deconv_layer_1)\n",
        "  deconv_layer_2 = Conv2D(8, (3, 3), activation='relu', padding='same')(upsamp_layer_1)\n",
        "  upsamp_layer_2 = UpSampling2D((2, 2))(deconv_layer_2)\n",
        "  deconv_layer_3 = Conv2D(16, (3, 3), activation='relu')(upsamp_layer_2)\n",
        "  upsamp_layer_3 = UpSampling2D((2, 2))(deconv_layer_3)\n",
        "  decoded_data = Conv2D(1, (3, 3), activation='sigmoid', padding='same')(upsamp_layer_3)\n",
        "  # Create the autoencoder models\n",
        "  autoencoder = Model(input_data, decoded_data)\n",
        "  encoder = Model(input_data, encoded_data)\n",
        "  # Compile the autoencoder model\n",
        "  autoencoder.compile(optimizer='adadelta', loss='binary_crossentropy')\n",
        "  # Return the different autoencoder model parts\n",
        "  return autoencoder, encoder\n",
        "\n",
        "\n",
        "# Load the MNIST dataset\n",
        "x_train, y_train, x_test, y_test = load_mnist_dataset()\n",
        "\n",
        "# Create the convolutional autoencoder model\n",
        "autoencoder, encoder = create_convolutional_autoencoder(input_dimension=(28, 28, 1))\n",
        "\n",
        "# Fit the convolutional autoencoder on the MNIST training dataset\n",
        "autoencoder.fit(x_train, x_train, epochs=50, batch_size=128, shuffle=True)"
      ],
      "execution_count": 0,
      "outputs": []
    },
    {
      "cell_type": "code",
      "metadata": {
        "id": "jnQBG5K3a4vY",
        "colab_type": "code",
        "outputId": "3062a05b-4868-4438-ca14-9e69792f1f62",
        "colab": {
          "base_uri": "https://localhost:8080/",
          "height": 382
        }
      },
      "source": [
        "from keras.utils import to_categorical\n",
        "\n",
        "\n",
        "def encode_images(encoder, images):\n",
        "  # Pass forward the input images through the encoder part\n",
        "  return encoder.predict(images).reshape(60000, -1)\n",
        "\n",
        "def create_classifier(input_dimension=128, output_dimension=10):\n",
        "  # Create the classifier model\n",
        "  classifier = Sequential()\n",
        "  classifier.add(Dense(64, input_dim=input_dimension, activation='relu'))\n",
        "  classifier.add(Dense(16, activation='relu'))\n",
        "  classifier.add(Dense(output_dimension, activation='softmax'))\n",
        "  # Compile the classifier model\n",
        "  classifier.compile(optimizer='rmsprop', loss='categorical_crossentropy', metrics=['accuracy'])\n",
        "  return classifier\n",
        "\n",
        "\n",
        "# Encode the training images by passing them trough the encoder model\n",
        "encoded_x_train = encode_images(encoder, x_train)\n",
        "\n",
        "# Create the classifier model that will discriminate latent dimensions\n",
        "classifier = create_classifier(input_dimension=128, output_dimension=10)\n",
        "\n",
        "# Fit the classifier to make it predict the MNIST figures from latent vectors\n",
        "classifier.fit(encoded_x_train, to_categorical(y_train), epochs=10, batch_size=32)"
      ],
      "execution_count": 0,
      "outputs": [
        {
          "output_type": "stream",
          "text": [
            "Epoch 1/10\n",
            "60000/60000 [==============================] - 6s 101us/step - loss: 0.4653 - acc: 0.8591\n",
            "Epoch 2/10\n",
            "60000/60000 [==============================] - 6s 97us/step - loss: 0.2103 - acc: 0.9342\n",
            "Epoch 3/10\n",
            "60000/60000 [==============================] - 6s 95us/step - loss: 0.1776 - acc: 0.9452\n",
            "Epoch 4/10\n",
            "60000/60000 [==============================] - 6s 96us/step - loss: 0.1576 - acc: 0.9501\n",
            "Epoch 5/10\n",
            "60000/60000 [==============================] - 6s 95us/step - loss: 0.1442 - acc: 0.9548\n",
            "Epoch 6/10\n",
            "60000/60000 [==============================] - 6s 96us/step - loss: 0.1365 - acc: 0.9581\n",
            "Epoch 7/10\n",
            "60000/60000 [==============================] - 6s 97us/step - loss: 0.1298 - acc: 0.9588\n",
            "Epoch 8/10\n",
            "60000/60000 [==============================] - 6s 96us/step - loss: 0.1232 - acc: 0.9616\n",
            "Epoch 9/10\n",
            "60000/60000 [==============================] - 6s 101us/step - loss: 0.1191 - acc: 0.9632\n",
            "Epoch 10/10\n",
            "60000/60000 [==============================] - 6s 102us/step - loss: 0.1163 - acc: 0.9641\n"
          ],
          "name": "stdout"
        },
        {
          "output_type": "execute_result",
          "data": {
            "text/plain": [
              "<keras.callbacks.History at 0x7f0e84fb0128>"
            ]
          },
          "metadata": {
            "tags": []
          },
          "execution_count": 5
        }
      ]
    },
    {
      "cell_type": "code",
      "metadata": {
        "id": "VOkdf9OWa4yf",
        "colab_type": "code",
        "outputId": "eb6294f3-9caf-40ca-a259-cfe2d0cd1391",
        "colab": {
          "base_uri": "https://localhost:8080/",
          "height": 548
        }
      },
      "source": [
        "from scipy.stats.stats import pearsonr\n",
        "import matplotlib.pyplot as plt\n",
        "\n",
        "\n",
        "def compute_pearson_correlations(encoded_images, predictions):\n",
        "  # Compute Pearson linear correlation score between each latent dimension and the prediction\n",
        "  correlations = [pearsonr(encoded_images[:, i], predictions)[0] for i in range(encoded_images.shape[1])]\n",
        "  return correlations\n",
        "\n",
        "def plot_latent_dimensions_predictions_correlations(correlations):\n",
        "  # Initialize the x axis for the correlation plot\n",
        "  latent_dimensions = [i for i in range(len(correlations))]\n",
        "  # Plot the correlations between latent variables and predictions\n",
        "  plt.figure(figsize=(15, 8))\n",
        "  plt.bar(latent_dimensions, correlations)\n",
        "  plt.plot([0, len(correlations)], [0., 0.], 'r--')\n",
        "  plt.ylim([-1., 1.])\n",
        "  plt.title('Latent dimensions & predictions - Pearson correlations')\n",
        "  plt.xlabel('Latent dimensions')\n",
        "  plt.ylabel('Pearson correlation (with predictions)')\n",
        "  plt.show()\n",
        "\n",
        "\n",
        "# Make predictions with the classifier on latent dimensions encoded from all data\n",
        "prediction_encoded_images = np.argmax(classifier.predict(encoded_x_train), axis=1)\n",
        "\n",
        "# Compute (Pearson) correlations between latent dimensions and predictions\n",
        "correlations = compute_pearson_correlations(encoded_x_train, prediction_encoded_images)\n",
        "\n",
        "# Plot the correlations between latent variables and predictions made on encoded images\n",
        "plot_latent_dimensions_predictions_correlations(correlations)"
      ],
      "execution_count": 0,
      "outputs": [
        {
          "output_type": "stream",
          "text": [
            "/usr/local/lib/python3.6/dist-packages/scipy/stats/stats.py:3508: PearsonRConstantInputWarning: An input array is constant; the correlation coefficent is not defined.\n",
            "  warnings.warn(PearsonRConstantInputWarning())\n"
          ],
          "name": "stderr"
        },
        {
          "output_type": "display_data",
          "data": {
            "image/png": "[encoded data removed]",
            "text/plain": [
              "<Figure size 1080x576 with 1 Axes>"
            ]
          },
          "metadata": {
            "tags": []
          }
        }
      ]
    },
    {
      "cell_type": "code",
      "metadata": {
        "id": "94o3QiRua40w",
        "colab_type": "code",
        "colab": {}
      },
      "source": [
        ""
      ],
      "execution_count": 0,
      "outputs": []
    },
    {
      "cell_type": "code",
      "metadata": {
        "id": "1JYN3Tnqa426",
        "colab_type": "code",
        "colab": {}
      },
      "source": [
        ""
      ],
      "execution_count": 0,
      "outputs": []
    },
    {
      "cell_type": "code",
      "metadata": {
        "id": "mWrnayy_UedP",
        "colab_type": "code",
        "colab": {}
      },
      "source": [
        ""
      ],
      "execution_count": 0,
      "outputs": []
    }
  ]
}