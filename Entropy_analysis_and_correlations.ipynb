{
  "nbformat": 4,
  "nbformat_minor": 0,
  "metadata": {
    "colab": {
      "name": "Entropy analysis & correlations.ipynb",
      "provenance": [],
      "collapsed_sections": []
    },
    "kernelspec": {
      "name": "python3",
      "display_name": "Python 3"
    }
  },
  "cells": [
    {
      "cell_type": "markdown",
      "metadata": {
        "id": "rgU8lTNkCG2D",
        "colab_type": "text"
      },
      "source": [
        "# Entropy"
      ]
    },
    {
      "cell_type": "code",
      "metadata": {
        "id": "QOT5iUz-vpfp",
        "colab_type": "code",
        "colab": {}
      },
      "source": [
        "import numpy as np\n",
        "from keras.datasets import mnist\n",
        "from keras.layers import Input, Dense\n",
        "from keras.models import Sequential, Model\n",
        "from keras.utils import to_categorical\n",
        "\n",
        "\n",
        "def load_flatten_mnist_dataset():\n",
        "  # Load the MNIST dataset from Keras\n",
        "  (x_train, y_train), (x_test, y_test) = mnist.load_data()\n",
        "  # Rescale images\n",
        "  x_train = x_train.astype('float32') / 255.\n",
        "  x_test = x_test.astype('float32') / 255.\n",
        "  # Reshape images\n",
        "  x_train = x_train.reshape((len(x_train), np.prod(x_train.shape[1:])))\n",
        "  x_test = x_test.reshape((len(x_test), np.prod(x_test.shape[1:])))\n",
        "  # Return the preprocessed MNIST images\n",
        "  return x_train, y_train, x_test, y_test\n",
        "\n",
        "def create_classifier(input_dimension=784, output_dimension=10):\n",
        "  # Create the classifier model\n",
        "  classifier = Sequential()\n",
        "  classifier.add(Dense(64, input_dim=input_dimension, activation='relu'))\n",
        "  classifier.add(Dense(16, activation='relu'))\n",
        "  classifier.add(Dense(output_dimension, activation='softmax'))\n",
        "  # Compile the classifier model\n",
        "  classifier.compile(optimizer='rmsprop', loss='categorical_crossentropy', metrics=['accuracy'])\n",
        "  return classifier\n",
        "\n",
        "\n",
        "# Load the MNIST dataset (flattened to 784-long)\n",
        "x_train, y_train, x_test, y_test = load_flatten_mnist_dataset()\n",
        "\n",
        "# Create the classifier model that will discriminate latent dimensions\n",
        "classifier = create_classifier(input_dimension=784, output_dimension=10)\n",
        "\n",
        "# Fit the classifier to make it predict the MNIST figures from latent vectors\n",
        "classifier.fit(x_train, to_categorical(y_train), epochs=10, batch_size=32)"
      ],
      "execution_count": 0,
      "outputs": []
    },
    {
      "cell_type": "code",
      "metadata": {
        "id": "Zszv92c7CI_4",
        "colab_type": "code",
        "outputId": "b669c830-aef3-4025-8fee-18a69dd7385f",
        "colab": {
          "base_uri": "https://localhost:8080/",
          "height": 631
        }
      },
      "source": [
        "import matplotlib.pyplot as plt\n",
        "from skimage.measure.entropy import shannon_entropy\n",
        "from skimage.filters.rank import entropy\n",
        "from skimage.morphology import disk\n",
        "\n",
        "\n",
        "def compute_image_global_entropy(input_image):\n",
        "  # Compute the global Shannon entropy score of the image\n",
        "  return shannon_entropy(input_image)\n",
        "\n",
        "def compute_image_local_entropy(input_image, neighbourhood):\n",
        "  # Compute the local entropy score of the image with respect to a neighbourhood\n",
        "  return entropy(input_image, disk(neighbourhood))\n",
        "\n",
        "def plot_single_image_entropy(image):\n",
        "  # Compute local and global entropies for the input image\n",
        "  local_entropy_image = compute_image_local_entropy(image, neighbourhood=2)\n",
        "  global_entropy_image = round(compute_image_global_entropy(image), 3)\n",
        "  # Display both entropies on a two-parts plot\n",
        "  fig, axs = plt.subplots(1, 2, figsize=(8, 4))\n",
        "  axs[0].imshow(image) ; axs[0].set_xticks([]) ; axs[0].set_yticks([])\n",
        "  axs[1].imshow(local_entropy_image) ; axs[1].set_xticks([]) ; axs[1].set_yticks([])\n",
        "  fig.suptitle('Global entropy : {}'.format(global_entropy_image), fontsize=16)\n",
        "  plt.show()\n",
        "\n",
        "def compute_global_entropy_all_images(input_images):\n",
        "  # Compute the global entropy score for all images\n",
        "  return [compute_image_global_entropy(input_images[i]) for i in range(input_images.shape[0])]\n",
        "\n",
        "def plot_global_entropy_histogram_all_images(input_images):\n",
        "  # Compute the global entropy score for all images\n",
        "  global_entropies = compute_global_entropy_all_images(input_images)\n",
        "  # Display the histogram of global entropy for all images\n",
        "  plt.figure(figsize=(8, 5))\n",
        "  plt.hist(global_entropies, bins=50)\n",
        "  plt.show()\n",
        "\n",
        "\n",
        "# Plot the entropy histogram of all training images\n",
        "plot_global_entropy_histogram_all_images(x_train.reshape(-1, 28, 28))\n",
        "\n",
        "# Plot the local and global entropies for a single and random image\n",
        "random_index = np.random.choice(x_train.shape[0])\n",
        "random_image = x_train[random_index].reshape(28, 28)\n",
        "plot_single_image_entropy(random_image)"
      ],
      "execution_count": 0,
      "outputs": [
        {
          "output_type": "display_data",
          "data": {
            "image/png": "[encoded data removed]",
            "text/plain": [
              "<Figure size 576x360 with 1 Axes>"
            ]
          },
          "metadata": {
            "tags": []
          }
        },
        {
          "output_type": "stream",
          "text": [
            "/usr/local/lib/python3.6/dist-packages/skimage/filters/rank/generic.py:119: UserWarning: Possible precision loss converting image of type float32 to uint8 as required by rank filters. Convert manually using skimage.util.img_as_ubyte to silence this warning.\n",
            "  out_dtype)\n"
          ],
          "name": "stderr"
        },
        {
          "output_type": "display_data",
          "data": {
            "image/png": "[encoded data removed]",
            "text/plain": [
              "<Figure size 576x288 with 2 Axes>"
            ]
          },
          "metadata": {
            "tags": []
          }
        }
      ]
    },
    {
      "cell_type": "code",
      "metadata": {
        "id": "djDPTb5wYg_z",
        "colab_type": "code",
        "outputId": "5eef8c7c-73c1-44b7-f1fe-0e2da31cee4d",
        "colab": {
          "base_uri": "https://localhost:8080/",
          "height": 521
        }
      },
      "source": [
        "def plot_global_entropy_analysis(global_entropies, entropies_errors):\n",
        "  # Plot the distribution of the images global entropies\n",
        "  fig, ax1 = plt.subplots(figsize=(15, 8))\n",
        "  plt.title('Global entropy analysis', fontsize=18)\n",
        "  ax1.hist(global_entropies, bins=50)\n",
        "  ax1.set_xlabel('Images entropy', fontsize=14)\n",
        "  ax1.set_ylabel('Amount of images', fontsize=14)\n",
        "  # Plot the errors related to the images global entropies\n",
        "  ax2 = ax1.twinx()\n",
        "  ax2.hist(entropies_errors, bins=50, color='r', alpha=0.5)\n",
        "  ax2.set_ylabel('Amount of errors', fontsize=14)\n",
        "  plt.show()\n",
        "\n",
        "\n",
        "# Make predictions with the previously trained classifier\n",
        "predictions = np.argmax(classifier.predict(x_train), axis=1)\n",
        "# Compute the entropies of all training images\n",
        "entropies = np.array(compute_global_entropy_all_images(x_train.reshape(-1, 28, 28)))\n",
        "\n",
        "# Compute the indices where the model made false predictions/errors\n",
        "errors_indices = np.where(predictions != y_train)[0]\n",
        "# Retrieve the related global entropies of the images where the model made mistakes\n",
        "entropies_errors = entropies[errors_indices]\n",
        "\n",
        "# Plot the global entropy analysis (distribution/errors)\n",
        "plot_global_entropy_analysis(entropies, entropies_errors)"
      ],
      "execution_count": 0,
      "outputs": [
        {
          "output_type": "display_data",
          "data": {
            "image/png": "[encoded data removed]",
            "text/plain": [
              "<Figure size 1080x576 with 2 Axes>"
            ]
          },
          "metadata": {
            "tags": []
          }
        }
      ]
    },
    {
      "cell_type": "code",
      "metadata": {
        "id": "-dXkrSnrCJD_",
        "colab_type": "code",
        "colab": {}
      },
      "source": [
        ""
      ],
      "execution_count": 0,
      "outputs": []
    },
    {
      "cell_type": "code",
      "metadata": {
        "id": "gpZA0YjlYhB3",
        "colab_type": "code",
        "colab": {}
      },
      "source": [
        ""
      ],
      "execution_count": 0,
      "outputs": []
    },
    {
      "cell_type": "code",
      "metadata": {
        "id": "KHDdf-bKUGXU",
        "colab_type": "code",
        "colab": {}
      },
      "source": [
        ""
      ],
      "execution_count": 0,
      "outputs": []
    }
  ]
}